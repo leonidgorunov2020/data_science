{
 "cells": [
  {
   "cell_type": "code",
   "execution_count": 1,
   "id": "d6ac1ccc",
   "metadata": {},
   "outputs": [],
   "source": [
    "%matplotlib inline\n"
   ]
  },
  {
   "cell_type": "code",
   "execution_count": 2,
   "id": "4aa89805",
   "metadata": {},
   "outputs": [],
   "source": [
    "import matplotlib.pyplot as plt\n",
    "import pandas as pd"
   ]
  },
  {
   "cell_type": "code",
   "execution_count": 3,
   "id": "e2f8b318",
   "metadata": {},
   "outputs": [],
   "source": [
    "whr_2019 = pd.read_csv(\"2019.csv\")\n",
    "whr_2018 = pd.read_csv(\"2018.csv\")\n",
    "whr_2017 = pd.read_csv(\"2017.csv\")"
   ]
  },
  {
   "cell_type": "code",
   "execution_count": 4,
   "id": "e6c87eb6",
   "metadata": {},
   "outputs": [
    {
     "data": {
      "text/html": [
       "<div>\n",
       "<style scoped>\n",
       "    .dataframe tbody tr th:only-of-type {\n",
       "        vertical-align: middle;\n",
       "    }\n",
       "\n",
       "    .dataframe tbody tr th {\n",
       "        vertical-align: top;\n",
       "    }\n",
       "\n",
       "    .dataframe thead th {\n",
       "        text-align: right;\n",
       "    }\n",
       "</style>\n",
       "<table border=\"1\" class=\"dataframe\">\n",
       "  <thead>\n",
       "    <tr style=\"text-align: right;\">\n",
       "      <th></th>\n",
       "      <th>count</th>\n",
       "      <th>mean</th>\n",
       "      <th>std</th>\n",
       "      <th>min</th>\n",
       "      <th>25%</th>\n",
       "      <th>50%</th>\n",
       "      <th>75%</th>\n",
       "      <th>max</th>\n",
       "    </tr>\n",
       "  </thead>\n",
       "  <tbody>\n",
       "    <tr>\n",
       "      <th>Overall rank</th>\n",
       "      <td>156.0</td>\n",
       "      <td>78.500000</td>\n",
       "      <td>45.177428</td>\n",
       "      <td>1.000</td>\n",
       "      <td>39.75000</td>\n",
       "      <td>78.5000</td>\n",
       "      <td>117.25000</td>\n",
       "      <td>156.000</td>\n",
       "    </tr>\n",
       "    <tr>\n",
       "      <th>Score</th>\n",
       "      <td>156.0</td>\n",
       "      <td>5.407096</td>\n",
       "      <td>1.113120</td>\n",
       "      <td>2.853</td>\n",
       "      <td>4.54450</td>\n",
       "      <td>5.3795</td>\n",
       "      <td>6.18450</td>\n",
       "      <td>7.769</td>\n",
       "    </tr>\n",
       "    <tr>\n",
       "      <th>GDP per capita</th>\n",
       "      <td>156.0</td>\n",
       "      <td>0.905147</td>\n",
       "      <td>0.398389</td>\n",
       "      <td>0.000</td>\n",
       "      <td>0.60275</td>\n",
       "      <td>0.9600</td>\n",
       "      <td>1.23250</td>\n",
       "      <td>1.684</td>\n",
       "    </tr>\n",
       "    <tr>\n",
       "      <th>Social support</th>\n",
       "      <td>156.0</td>\n",
       "      <td>1.208814</td>\n",
       "      <td>0.299191</td>\n",
       "      <td>0.000</td>\n",
       "      <td>1.05575</td>\n",
       "      <td>1.2715</td>\n",
       "      <td>1.45250</td>\n",
       "      <td>1.624</td>\n",
       "    </tr>\n",
       "    <tr>\n",
       "      <th>Healthy life expectancy</th>\n",
       "      <td>156.0</td>\n",
       "      <td>0.725244</td>\n",
       "      <td>0.242124</td>\n",
       "      <td>0.000</td>\n",
       "      <td>0.54775</td>\n",
       "      <td>0.7890</td>\n",
       "      <td>0.88175</td>\n",
       "      <td>1.141</td>\n",
       "    </tr>\n",
       "    <tr>\n",
       "      <th>Freedom to make life choices</th>\n",
       "      <td>156.0</td>\n",
       "      <td>0.392571</td>\n",
       "      <td>0.143289</td>\n",
       "      <td>0.000</td>\n",
       "      <td>0.30800</td>\n",
       "      <td>0.4170</td>\n",
       "      <td>0.50725</td>\n",
       "      <td>0.631</td>\n",
       "    </tr>\n",
       "    <tr>\n",
       "      <th>Generosity</th>\n",
       "      <td>156.0</td>\n",
       "      <td>0.184846</td>\n",
       "      <td>0.095254</td>\n",
       "      <td>0.000</td>\n",
       "      <td>0.10875</td>\n",
       "      <td>0.1775</td>\n",
       "      <td>0.24825</td>\n",
       "      <td>0.566</td>\n",
       "    </tr>\n",
       "    <tr>\n",
       "      <th>Perceptions of corruption</th>\n",
       "      <td>156.0</td>\n",
       "      <td>0.110603</td>\n",
       "      <td>0.094538</td>\n",
       "      <td>0.000</td>\n",
       "      <td>0.04700</td>\n",
       "      <td>0.0855</td>\n",
       "      <td>0.14125</td>\n",
       "      <td>0.453</td>\n",
       "    </tr>\n",
       "  </tbody>\n",
       "</table>\n",
       "</div>"
      ],
      "text/plain": [
       "                              count       mean        std    min       25%  \\\n",
       "Overall rank                  156.0  78.500000  45.177428  1.000  39.75000   \n",
       "Score                         156.0   5.407096   1.113120  2.853   4.54450   \n",
       "GDP per capita                156.0   0.905147   0.398389  0.000   0.60275   \n",
       "Social support                156.0   1.208814   0.299191  0.000   1.05575   \n",
       "Healthy life expectancy       156.0   0.725244   0.242124  0.000   0.54775   \n",
       "Freedom to make life choices  156.0   0.392571   0.143289  0.000   0.30800   \n",
       "Generosity                    156.0   0.184846   0.095254  0.000   0.10875   \n",
       "Perceptions of corruption     156.0   0.110603   0.094538  0.000   0.04700   \n",
       "\n",
       "                                  50%        75%      max  \n",
       "Overall rank                  78.5000  117.25000  156.000  \n",
       "Score                          5.3795    6.18450    7.769  \n",
       "GDP per capita                 0.9600    1.23250    1.684  \n",
       "Social support                 1.2715    1.45250    1.624  \n",
       "Healthy life expectancy        0.7890    0.88175    1.141  \n",
       "Freedom to make life choices   0.4170    0.50725    0.631  \n",
       "Generosity                     0.1775    0.24825    0.566  \n",
       "Perceptions of corruption      0.0855    0.14125    0.453  "
      ]
     },
     "execution_count": 4,
     "metadata": {},
     "output_type": "execute_result"
    }
   ],
   "source": [
    "whr_2019.describe().T"
   ]
  },
  {
   "cell_type": "code",
   "execution_count": 5,
   "id": "d779cf0e",
   "metadata": {},
   "outputs": [
    {
     "data": {
      "text/plain": [
       "<Axes: >"
      ]
     },
     "execution_count": 5,
     "metadata": {},
     "output_type": "execute_result"
    },
    {
     "data": {
      "image/png": "[encoded data removed]",
      "text/plain": [
       "<Figure size 640x480 with 1 Axes>"
      ]
     },
     "metadata": {},
     "output_type": "display_data"
    }
   ],
   "source": [
    "#Histogram of GDP - user pd hist\n",
    "whr_2018[\"GDP per capita\"].hist()"
   ]
  },
  {
   "cell_type": "code",
   "execution_count": 6,
   "id": "57d4d612",
   "metadata": {},
   "outputs": [
    {
     "data": {
      "image/png": "[encoded data removed]",
      "text/plain": [
       "<Figure size 640x480 with 1 Axes>"
      ]
     },
     "metadata": {},
     "output_type": "display_data"
    }
   ],
   "source": [
    "#plt hist \n",
    "plt.hist(whr_2018[\"GDP per capita\"], bins = \"fd\")\n",
    "plt.xlabel(\"GDP Contribution\")\n",
    "plt.ylabel(\"Count\")\n",
    "plt.show()"
   ]
  },
  {
   "cell_type": "code",
   "execution_count": 7,
   "id": "e8637ff2",
   "metadata": {},
   "outputs": [
    {
     "data": {
      "text/html": [
       "<div>\n",
       "<style scoped>\n",
       "    .dataframe tbody tr th:only-of-type {\n",
       "        vertical-align: middle;\n",
       "    }\n",
       "\n",
       "    .dataframe tbody tr th {\n",
       "        vertical-align: top;\n",
       "    }\n",
       "\n",
       "    .dataframe thead th {\n",
       "        text-align: right;\n",
       "    }\n",
       "</style>\n",
       "<table border=\"1\" class=\"dataframe\">\n",
       "  <thead>\n",
       "    <tr style=\"text-align: right;\">\n",
       "      <th></th>\n",
       "      <th>Overall rank</th>\n",
       "      <th>Country or region</th>\n",
       "      <th>Score</th>\n",
       "      <th>GDP per capita</th>\n",
       "      <th>Social support</th>\n",
       "      <th>Healthy life expectancy</th>\n",
       "      <th>Freedom to make life choices</th>\n",
       "      <th>Generosity</th>\n",
       "      <th>Perceptions of corruption</th>\n",
       "    </tr>\n",
       "  </thead>\n",
       "  <tbody>\n",
       "    <tr>\n",
       "      <th>33</th>\n",
       "      <td>34</td>\n",
       "      <td>Singapore</td>\n",
       "      <td>6.343</td>\n",
       "      <td>1.529</td>\n",
       "      <td>1.451</td>\n",
       "      <td>1.008</td>\n",
       "      <td>0.631</td>\n",
       "      <td>0.261</td>\n",
       "      <td>0.457</td>\n",
       "    </tr>\n",
       "    <tr>\n",
       "      <th>16</th>\n",
       "      <td>17</td>\n",
       "      <td>Luxembourg</td>\n",
       "      <td>6.910</td>\n",
       "      <td>1.576</td>\n",
       "      <td>1.520</td>\n",
       "      <td>0.896</td>\n",
       "      <td>0.632</td>\n",
       "      <td>0.196</td>\n",
       "      <td>0.321</td>\n",
       "    </tr>\n",
       "    <tr>\n",
       "      <th>31</th>\n",
       "      <td>32</td>\n",
       "      <td>Qatar</td>\n",
       "      <td>6.374</td>\n",
       "      <td>1.649</td>\n",
       "      <td>1.303</td>\n",
       "      <td>0.748</td>\n",
       "      <td>0.654</td>\n",
       "      <td>0.256</td>\n",
       "      <td>0.171</td>\n",
       "    </tr>\n",
       "  </tbody>\n",
       "</table>\n",
       "</div>"
      ],
      "text/plain": [
       "    Overall rank Country or region  Score  GDP per capita  Social support  \\\n",
       "33            34         Singapore  6.343           1.529           1.451   \n",
       "16            17        Luxembourg  6.910           1.576           1.520   \n",
       "31            32             Qatar  6.374           1.649           1.303   \n",
       "\n",
       "    Healthy life expectancy  Freedom to make life choices  Generosity  \\\n",
       "33                    1.008                         0.631       0.261   \n",
       "16                    0.896                         0.632       0.196   \n",
       "31                    0.748                         0.654       0.256   \n",
       "\n",
       "    Perceptions of corruption  \n",
       "33                      0.457  \n",
       "16                      0.321  \n",
       "31                      0.171  "
      ]
     },
     "execution_count": 7,
     "metadata": {},
     "output_type": "execute_result"
    }
   ],
   "source": [
    "#Find the missing values on the histogram\n",
    "whr_2018[(whr_2018[\"GDP per capita\"] > 1.5 ) & (whr_2018[\"GDP per capita\"] < 2.0 )].sort_values(\"GDP per capita\")"
   ]
  },
  {
   "cell_type": "code",
   "execution_count": 8,
   "id": "d8c2efde",
   "metadata": {},
   "outputs": [
    {
     "data": {
      "text/html": [
       "<div>\n",
       "<style scoped>\n",
       "    .dataframe tbody tr th:only-of-type {\n",
       "        vertical-align: middle;\n",
       "    }\n",
       "\n",
       "    .dataframe tbody tr th {\n",
       "        vertical-align: top;\n",
       "    }\n",
       "\n",
       "    .dataframe thead th {\n",
       "        text-align: right;\n",
       "    }\n",
       "</style>\n",
       "<table border=\"1\" class=\"dataframe\">\n",
       "  <thead>\n",
       "    <tr style=\"text-align: right;\">\n",
       "      <th></th>\n",
       "      <th>Overall rank</th>\n",
       "      <th>Country or region</th>\n",
       "      <th>Score</th>\n",
       "      <th>GDP per capita</th>\n",
       "      <th>Social support</th>\n",
       "      <th>Healthy life expectancy</th>\n",
       "      <th>Freedom to make life choices</th>\n",
       "      <th>Generosity</th>\n",
       "      <th>Perceptions of corruption</th>\n",
       "    </tr>\n",
       "  </thead>\n",
       "  <tbody>\n",
       "    <tr>\n",
       "      <th>97</th>\n",
       "      <td>98</td>\n",
       "      <td>Somalia</td>\n",
       "      <td>4.982</td>\n",
       "      <td>0.000</td>\n",
       "      <td>0.712</td>\n",
       "      <td>0.115</td>\n",
       "      <td>0.674</td>\n",
       "      <td>0.238</td>\n",
       "      <td>0.282</td>\n",
       "    </tr>\n",
       "    <tr>\n",
       "      <th>154</th>\n",
       "      <td>155</td>\n",
       "      <td>Central African Republic</td>\n",
       "      <td>3.083</td>\n",
       "      <td>0.024</td>\n",
       "      <td>0.000</td>\n",
       "      <td>0.010</td>\n",
       "      <td>0.305</td>\n",
       "      <td>0.218</td>\n",
       "      <td>0.038</td>\n",
       "    </tr>\n",
       "    <tr>\n",
       "      <th>131</th>\n",
       "      <td>132</td>\n",
       "      <td>Congo (Kinshasa)</td>\n",
       "      <td>4.245</td>\n",
       "      <td>0.069</td>\n",
       "      <td>1.136</td>\n",
       "      <td>0.204</td>\n",
       "      <td>0.312</td>\n",
       "      <td>0.197</td>\n",
       "      <td>0.052</td>\n",
       "    </tr>\n",
       "    <tr>\n",
       "      <th>148</th>\n",
       "      <td>149</td>\n",
       "      <td>Liberia</td>\n",
       "      <td>3.495</td>\n",
       "      <td>0.076</td>\n",
       "      <td>0.858</td>\n",
       "      <td>0.267</td>\n",
       "      <td>0.419</td>\n",
       "      <td>0.206</td>\n",
       "      <td>0.030</td>\n",
       "    </tr>\n",
       "    <tr>\n",
       "      <th>155</th>\n",
       "      <td>156</td>\n",
       "      <td>Burundi</td>\n",
       "      <td>2.905</td>\n",
       "      <td>0.091</td>\n",
       "      <td>0.627</td>\n",
       "      <td>0.145</td>\n",
       "      <td>0.065</td>\n",
       "      <td>0.149</td>\n",
       "      <td>0.076</td>\n",
       "    </tr>\n",
       "    <tr>\n",
       "      <th>133</th>\n",
       "      <td>134</td>\n",
       "      <td>Niger</td>\n",
       "      <td>4.166</td>\n",
       "      <td>0.131</td>\n",
       "      <td>0.867</td>\n",
       "      <td>0.221</td>\n",
       "      <td>0.390</td>\n",
       "      <td>0.175</td>\n",
       "      <td>0.099</td>\n",
       "    </tr>\n",
       "    <tr>\n",
       "      <th>146</th>\n",
       "      <td>147</td>\n",
       "      <td>Malawi</td>\n",
       "      <td>3.587</td>\n",
       "      <td>0.186</td>\n",
       "      <td>0.541</td>\n",
       "      <td>0.306</td>\n",
       "      <td>0.531</td>\n",
       "      <td>0.210</td>\n",
       "      <td>0.080</td>\n",
       "    </tr>\n",
       "    <tr>\n",
       "      <th>122</th>\n",
       "      <td>123</td>\n",
       "      <td>Mozambique</td>\n",
       "      <td>4.417</td>\n",
       "      <td>0.198</td>\n",
       "      <td>0.902</td>\n",
       "      <td>0.173</td>\n",
       "      <td>0.531</td>\n",
       "      <td>0.206</td>\n",
       "      <td>0.158</td>\n",
       "    </tr>\n",
       "    <tr>\n",
       "      <th>112</th>\n",
       "      <td>113</td>\n",
       "      <td>Sierra Leone</td>\n",
       "      <td>4.571</td>\n",
       "      <td>0.256</td>\n",
       "      <td>0.813</td>\n",
       "      <td>0.000</td>\n",
       "      <td>0.355</td>\n",
       "      <td>0.238</td>\n",
       "      <td>0.053</td>\n",
       "    </tr>\n",
       "    <tr>\n",
       "      <th>138</th>\n",
       "      <td>139</td>\n",
       "      <td>Togo</td>\n",
       "      <td>3.999</td>\n",
       "      <td>0.259</td>\n",
       "      <td>0.474</td>\n",
       "      <td>0.253</td>\n",
       "      <td>0.434</td>\n",
       "      <td>0.158</td>\n",
       "      <td>0.101</td>\n",
       "    </tr>\n",
       "  </tbody>\n",
       "</table>\n",
       "</div>"
      ],
      "text/plain": [
       "     Overall rank         Country or region  Score  GDP per capita  \\\n",
       "97             98                   Somalia  4.982           0.000   \n",
       "154           155  Central African Republic  3.083           0.024   \n",
       "131           132          Congo (Kinshasa)  4.245           0.069   \n",
       "148           149                   Liberia  3.495           0.076   \n",
       "155           156                   Burundi  2.905           0.091   \n",
       "133           134                     Niger  4.166           0.131   \n",
       "146           147                    Malawi  3.587           0.186   \n",
       "122           123                Mozambique  4.417           0.198   \n",
       "112           113              Sierra Leone  4.571           0.256   \n",
       "138           139                      Togo  3.999           0.259   \n",
       "\n",
       "     Social support  Healthy life expectancy  Freedom to make life choices  \\\n",
       "97            0.712                    0.115                         0.674   \n",
       "154           0.000                    0.010                         0.305   \n",
       "131           1.136                    0.204                         0.312   \n",
       "148           0.858                    0.267                         0.419   \n",
       "155           0.627                    0.145                         0.065   \n",
       "133           0.867                    0.221                         0.390   \n",
       "146           0.541                    0.306                         0.531   \n",
       "122           0.902                    0.173                         0.531   \n",
       "112           0.813                    0.000                         0.355   \n",
       "138           0.474                    0.253                         0.434   \n",
       "\n",
       "     Generosity  Perceptions of corruption  \n",
       "97        0.238                      0.282  \n",
       "154       0.218                      0.038  \n",
       "131       0.197                      0.052  \n",
       "148       0.206                      0.030  \n",
       "155       0.149                      0.076  \n",
       "133       0.175                      0.099  \n",
       "146       0.210                      0.080  \n",
       "122       0.206                      0.158  \n",
       "112       0.238                      0.053  \n",
       "138       0.158                      0.101  "
      ]
     },
     "execution_count": 8,
     "metadata": {},
     "output_type": "execute_result"
    }
   ],
   "source": [
    "#Get the smallest values of a column and sort them\n",
    "whr_2018.nsmallest(10,\"GDP per capita\").sort_values(\"GDP per capita\")"
   ]
  },
  {
   "cell_type": "code",
   "execution_count": 9,
   "id": "ddc61ecd",
   "metadata": {},
   "outputs": [
    {
     "data": {
      "text/html": [
       "<div>\n",
       "<style scoped>\n",
       "    .dataframe tbody tr th:only-of-type {\n",
       "        vertical-align: middle;\n",
       "    }\n",
       "\n",
       "    .dataframe tbody tr th {\n",
       "        vertical-align: top;\n",
       "    }\n",
       "\n",
       "    .dataframe thead th {\n",
       "        text-align: right;\n",
       "    }\n",
       "</style>\n",
       "<table border=\"1\" class=\"dataframe\">\n",
       "  <thead>\n",
       "    <tr style=\"text-align: right;\">\n",
       "      <th></th>\n",
       "      <th>Overall rank</th>\n",
       "      <th>Country or region</th>\n",
       "      <th>Score</th>\n",
       "      <th>GDP per capita</th>\n",
       "      <th>Social support</th>\n",
       "      <th>Healthy life expectancy</th>\n",
       "      <th>Freedom to make life choices</th>\n",
       "      <th>Generosity</th>\n",
       "      <th>Perceptions of corruption</th>\n",
       "    </tr>\n",
       "  </thead>\n",
       "  <tbody>\n",
       "    <tr>\n",
       "      <th>33</th>\n",
       "      <td>34</td>\n",
       "      <td>Singapore</td>\n",
       "      <td>6.343</td>\n",
       "      <td>1.529</td>\n",
       "      <td>1.451</td>\n",
       "      <td>1.008</td>\n",
       "      <td>0.631</td>\n",
       "      <td>0.261</td>\n",
       "      <td>0.457</td>\n",
       "    </tr>\n",
       "    <tr>\n",
       "      <th>16</th>\n",
       "      <td>17</td>\n",
       "      <td>Luxembourg</td>\n",
       "      <td>6.910</td>\n",
       "      <td>1.576</td>\n",
       "      <td>1.520</td>\n",
       "      <td>0.896</td>\n",
       "      <td>0.632</td>\n",
       "      <td>0.196</td>\n",
       "      <td>0.321</td>\n",
       "    </tr>\n",
       "    <tr>\n",
       "      <th>31</th>\n",
       "      <td>32</td>\n",
       "      <td>Qatar</td>\n",
       "      <td>6.374</td>\n",
       "      <td>1.649</td>\n",
       "      <td>1.303</td>\n",
       "      <td>0.748</td>\n",
       "      <td>0.654</td>\n",
       "      <td>0.256</td>\n",
       "      <td>0.171</td>\n",
       "    </tr>\n",
       "    <tr>\n",
       "      <th>19</th>\n",
       "      <td>20</td>\n",
       "      <td>United Arab Emirates</td>\n",
       "      <td>6.774</td>\n",
       "      <td>2.096</td>\n",
       "      <td>0.776</td>\n",
       "      <td>0.670</td>\n",
       "      <td>0.284</td>\n",
       "      <td>0.186</td>\n",
       "      <td>NaN</td>\n",
       "    </tr>\n",
       "  </tbody>\n",
       "</table>\n",
       "</div>"
      ],
      "text/plain": [
       "    Overall rank     Country or region  Score  GDP per capita  Social support  \\\n",
       "33            34             Singapore  6.343           1.529           1.451   \n",
       "16            17            Luxembourg  6.910           1.576           1.520   \n",
       "31            32                 Qatar  6.374           1.649           1.303   \n",
       "19            20  United Arab Emirates  6.774           2.096           0.776   \n",
       "\n",
       "    Healthy life expectancy  Freedom to make life choices  Generosity  \\\n",
       "33                    1.008                         0.631       0.261   \n",
       "16                    0.896                         0.632       0.196   \n",
       "31                    0.748                         0.654       0.256   \n",
       "19                    0.670                         0.284       0.186   \n",
       "\n",
       "    Perceptions of corruption  \n",
       "33                      0.457  \n",
       "16                      0.321  \n",
       "31                      0.171  \n",
       "19                        NaN  "
      ]
     },
     "execution_count": 9,
     "metadata": {},
     "output_type": "execute_result"
    }
   ],
   "source": [
    "whr_2018[(whr_2018[\"GDP per capita\"] > 1.5)].sort_values(\"GDP per capita\")"
   ]
  },
  {
   "cell_type": "code",
   "execution_count": 10,
   "id": "8e01b42e",
   "metadata": {},
   "outputs": [
    {
     "data": {
      "text/html": [
       "<div>\n",
       "<style scoped>\n",
       "    .dataframe tbody tr th:only-of-type {\n",
       "        vertical-align: middle;\n",
       "    }\n",
       "\n",
       "    .dataframe tbody tr th {\n",
       "        vertical-align: top;\n",
       "    }\n",
       "\n",
       "    .dataframe thead th {\n",
       "        text-align: right;\n",
       "    }\n",
       "</style>\n",
       "<table border=\"1\" class=\"dataframe\">\n",
       "  <thead>\n",
       "    <tr style=\"text-align: right;\">\n",
       "      <th></th>\n",
       "      <th>Overall rank</th>\n",
       "      <th>Country or region</th>\n",
       "      <th>Score</th>\n",
       "      <th>GDP per capita</th>\n",
       "      <th>Social support</th>\n",
       "      <th>Healthy life expectancy</th>\n",
       "      <th>Freedom to make life choices</th>\n",
       "      <th>Generosity</th>\n",
       "      <th>Perceptions of corruption</th>\n",
       "    </tr>\n",
       "  </thead>\n",
       "  <tbody>\n",
       "    <tr>\n",
       "      <th>20</th>\n",
       "      <td>21</td>\n",
       "      <td>United Arab Emirates</td>\n",
       "      <td>6.825</td>\n",
       "      <td>1.503</td>\n",
       "      <td>1.310</td>\n",
       "      <td>0.825</td>\n",
       "      <td>0.598</td>\n",
       "      <td>0.262</td>\n",
       "      <td>0.182</td>\n",
       "    </tr>\n",
       "    <tr>\n",
       "      <th>33</th>\n",
       "      <td>34</td>\n",
       "      <td>Singapore</td>\n",
       "      <td>6.262</td>\n",
       "      <td>1.572</td>\n",
       "      <td>1.463</td>\n",
       "      <td>1.141</td>\n",
       "      <td>0.556</td>\n",
       "      <td>0.271</td>\n",
       "      <td>0.453</td>\n",
       "    </tr>\n",
       "    <tr>\n",
       "      <th>13</th>\n",
       "      <td>14</td>\n",
       "      <td>Luxembourg</td>\n",
       "      <td>7.090</td>\n",
       "      <td>1.609</td>\n",
       "      <td>1.479</td>\n",
       "      <td>1.012</td>\n",
       "      <td>0.526</td>\n",
       "      <td>0.194</td>\n",
       "      <td>0.316</td>\n",
       "    </tr>\n",
       "    <tr>\n",
       "      <th>28</th>\n",
       "      <td>29</td>\n",
       "      <td>Qatar</td>\n",
       "      <td>6.374</td>\n",
       "      <td>1.684</td>\n",
       "      <td>1.313</td>\n",
       "      <td>0.871</td>\n",
       "      <td>0.555</td>\n",
       "      <td>0.220</td>\n",
       "      <td>0.167</td>\n",
       "    </tr>\n",
       "  </tbody>\n",
       "</table>\n",
       "</div>"
      ],
      "text/plain": [
       "    Overall rank     Country or region  Score  GDP per capita  Social support  \\\n",
       "20            21  United Arab Emirates  6.825           1.503           1.310   \n",
       "33            34             Singapore  6.262           1.572           1.463   \n",
       "13            14            Luxembourg  7.090           1.609           1.479   \n",
       "28            29                 Qatar  6.374           1.684           1.313   \n",
       "\n",
       "    Healthy life expectancy  Freedom to make life choices  Generosity  \\\n",
       "20                    0.825                         0.598       0.262   \n",
       "33                    1.141                         0.556       0.271   \n",
       "13                    1.012                         0.526       0.194   \n",
       "28                    0.871                         0.555       0.220   \n",
       "\n",
       "    Perceptions of corruption  \n",
       "20                      0.182  \n",
       "33                      0.453  \n",
       "13                      0.316  \n",
       "28                      0.167  "
      ]
     },
     "execution_count": 10,
     "metadata": {},
     "output_type": "execute_result"
    }
   ],
   "source": [
    "whr_2019[(whr_2019[\"GDP per capita\"] > 1.5)].sort_values(\"GDP per capita\")"
   ]
  },
  {
   "cell_type": "code",
   "execution_count": 11,
   "id": "552faaf3",
   "metadata": {},
   "outputs": [
    {
     "data": {
      "image/png": "[encoded data removed]",
      "text/plain": [
       "<Figure size 640x480 with 1 Axes>"
      ]
     },
     "metadata": {},
     "output_type": "display_data"
    }
   ],
   "source": [
    "#Plot 2 GDP histograms for 2018 and 2019\n",
    "plt.hist(whr_2018[\"GDP per capita\"], bins = 15, label = \"2018\", alpha = 0.7)\n",
    "plt.hist(whr_2019[\"GDP per capita\"], bins = 15, label = \"2019\", alpha = 0.7)\n",
    "plt.legend()\n",
    "plt.xlabel(\"GDP Contribution\")\n",
    "plt.ylabel(\"Count\")\n",
    "plt.show()"
   ]
  },
  {
   "cell_type": "code",
   "execution_count": 12,
   "id": "b3d5b4c9",
   "metadata": {},
   "outputs": [
    {
     "data": {
      "image/png": "[encoded data removed]",
      "text/plain": [
       "<Figure size 640x480 with 1 Axes>"
      ]
     },
     "metadata": {},
     "output_type": "display_data"
    }
   ],
   "source": [
    "#Plot 2 Scores histograms for 2018 and 2019\n",
    "#Histograms helps us check and compare distributions\n",
    "plt.hist(whr_2018[\"Score\"], bins = 15, label = \"2018\", alpha = 0.7)\n",
    "plt.hist(whr_2019[\"Score\"], bins = 15, label = \"2019\", alpha = 0.7)\n",
    "plt.legend()\n",
    "plt.xlabel(\"Score\")\n",
    "plt.ylabel(\"Count\")\n",
    "plt.show()"
   ]
  },
  {
   "cell_type": "code",
   "execution_count": 13,
   "id": "819b666a",
   "metadata": {},
   "outputs": [
    {
     "data": {
      "image/png": "[encoded data removed]",
      "text/plain": [
       "<Figure size 640x480 with 1 Axes>"
      ]
     },
     "metadata": {},
     "output_type": "display_data"
    }
   ],
   "source": [
    "#Show boxplot\n",
    "plt.boxplot([whr_2018[\"Score\"],whr_2019[\"Score\"]])\n",
    "plt.xticks([1, 2], [\"2018\" , \"2019\"])\n",
    "plt.show()"
   ]
  },
  {
   "cell_type": "code",
   "execution_count": 14,
   "id": "ed81b8a5",
   "metadata": {},
   "outputs": [],
   "source": [
    "#Merge two datasets\n",
    "whr_merged = whr_2018.merge(whr_2019, left_on = \"Country or region\", right_on = \"Country or region\", suffixes = [\"_2018\", \"_2019\"])\n"
   ]
  },
  {
   "cell_type": "code",
   "execution_count": 15,
   "id": "4d9c559e",
   "metadata": {},
   "outputs": [],
   "source": [
    "scores = whr_merged[[\"Country or region\", \"Score_2018\", \"Score_2019\"]]"
   ]
  },
  {
   "cell_type": "code",
   "execution_count": 16,
   "id": "bec9f767",
   "metadata": {},
   "outputs": [
    {
     "data": {
      "image/png": "[encoded data removed]",
      "text/plain": [
       "<Figure size 640x480 with 1 Axes>"
      ]
     },
     "metadata": {},
     "output_type": "display_data"
    }
   ],
   "source": [
    "#Barcharts\n",
    "plt.barh(scores.nlargest(20, \"Score_2018\")[\"Country or region\"], scores.nlargest(20, \"Score_2018\")[\"Score_2018\"])\n",
    "plt.gca().invert_yaxis()\n",
    "plt.xlim(0, 8)\n",
    "plt.show()"
   ]
  },
  {
   "cell_type": "code",
   "execution_count": 17,
   "id": "0133a3f5",
   "metadata": {},
   "outputs": [
    {
     "data": {
      "image/png": "[encoded data removed]",
      "text/plain": [
       "<Figure size 640x480 with 1 Axes>"
      ]
     },
     "metadata": {},
     "output_type": "display_data"
    },
    {
     "data": {
      "image/png": "[encoded data removed]",
      "text/plain": [
       "<Figure size 800x1000 with 1 Axes>"
      ]
     },
     "metadata": {},
     "output_type": "display_data"
    }
   ],
   "source": [
    "#Barcharts\n",
    "plt.barh(scores.nsmallest(20, \"Score_2018\")[\"Country or region\"], scores.nsmallest(20, \"Score_2018\")[\"Score_2018\"])\n",
    "plt.figure(figsize = (8, 10))\n",
    "plt.xlim(0, 8)\n",
    "plt.show()"
   ]
  },
  {
   "cell_type": "code",
   "execution_count": 18,
   "id": "00e20089",
   "metadata": {},
   "outputs": [],
   "source": [
    "whr_merged = whr_merged.merge(whr_2017.rename(columns = lambda col: col + \"_2017\"), left_on = \"Country or region\", right_on = \"Country_2017\", suffixes = [\"\", \"_2017\"])"
   ]
  },
  {
   "cell_type": "code",
   "execution_count": 19,
   "id": "82f8b855",
   "metadata": {},
   "outputs": [],
   "source": [
    "whr_merged = whr_merged.rename(columns = {\"Happiness.Score_2017\": \"Score_2017\"})"
   ]
  },
  {
   "cell_type": "code",
   "execution_count": 20,
   "id": "75887f44",
   "metadata": {},
   "outputs": [],
   "source": [
    "scores =  whr_merged[[\"Country or region\", \"Score_2017\", \"Score_2018\", \"Score_2019\"]]"
   ]
  },
  {
   "cell_type": "code",
   "execution_count": 21,
   "id": "4d4ed501",
   "metadata": {},
   "outputs": [
    {
     "data": {
      "text/html": [
       "<div>\n",
       "<style scoped>\n",
       "    .dataframe tbody tr th:only-of-type {\n",
       "        vertical-align: middle;\n",
       "    }\n",
       "\n",
       "    .dataframe tbody tr th {\n",
       "        vertical-align: top;\n",
       "    }\n",
       "\n",
       "    .dataframe thead th {\n",
       "        text-align: right;\n",
       "    }\n",
       "</style>\n",
       "<table border=\"1\" class=\"dataframe\">\n",
       "  <thead>\n",
       "    <tr style=\"text-align: right;\">\n",
       "      <th></th>\n",
       "      <th>Country or region</th>\n",
       "      <th>Score_2017</th>\n",
       "      <th>Score_2018</th>\n",
       "      <th>Score_2019</th>\n",
       "    </tr>\n",
       "  </thead>\n",
       "  <tbody>\n",
       "    <tr>\n",
       "      <th>0</th>\n",
       "      <td>Finland</td>\n",
       "      <td>7.469</td>\n",
       "      <td>7.632</td>\n",
       "      <td>7.769</td>\n",
       "    </tr>\n",
       "    <tr>\n",
       "      <th>1</th>\n",
       "      <td>Norway</td>\n",
       "      <td>7.537</td>\n",
       "      <td>7.594</td>\n",
       "      <td>7.554</td>\n",
       "    </tr>\n",
       "    <tr>\n",
       "      <th>2</th>\n",
       "      <td>Denmark</td>\n",
       "      <td>7.522</td>\n",
       "      <td>7.555</td>\n",
       "      <td>7.600</td>\n",
       "    </tr>\n",
       "    <tr>\n",
       "      <th>3</th>\n",
       "      <td>Iceland</td>\n",
       "      <td>7.504</td>\n",
       "      <td>7.495</td>\n",
       "      <td>7.494</td>\n",
       "    </tr>\n",
       "    <tr>\n",
       "      <th>4</th>\n",
       "      <td>Switzerland</td>\n",
       "      <td>7.494</td>\n",
       "      <td>7.487</td>\n",
       "      <td>7.480</td>\n",
       "    </tr>\n",
       "    <tr>\n",
       "      <th>...</th>\n",
       "      <td>...</td>\n",
       "      <td>...</td>\n",
       "      <td>...</td>\n",
       "      <td>...</td>\n",
       "    </tr>\n",
       "    <tr>\n",
       "      <th>142</th>\n",
       "      <td>Yemen</td>\n",
       "      <td>3.593</td>\n",
       "      <td>3.355</td>\n",
       "      <td>3.380</td>\n",
       "    </tr>\n",
       "    <tr>\n",
       "      <th>143</th>\n",
       "      <td>Tanzania</td>\n",
       "      <td>3.349</td>\n",
       "      <td>3.303</td>\n",
       "      <td>3.231</td>\n",
       "    </tr>\n",
       "    <tr>\n",
       "      <th>144</th>\n",
       "      <td>South Sudan</td>\n",
       "      <td>3.591</td>\n",
       "      <td>3.254</td>\n",
       "      <td>2.853</td>\n",
       "    </tr>\n",
       "    <tr>\n",
       "      <th>145</th>\n",
       "      <td>Central African Republic</td>\n",
       "      <td>2.693</td>\n",
       "      <td>3.083</td>\n",
       "      <td>3.083</td>\n",
       "    </tr>\n",
       "    <tr>\n",
       "      <th>146</th>\n",
       "      <td>Burundi</td>\n",
       "      <td>2.905</td>\n",
       "      <td>2.905</td>\n",
       "      <td>3.775</td>\n",
       "    </tr>\n",
       "  </tbody>\n",
       "</table>\n",
       "<p>147 rows × 4 columns</p>\n",
       "</div>"
      ],
      "text/plain": [
       "            Country or region  Score_2017  Score_2018  Score_2019\n",
       "0                     Finland       7.469       7.632       7.769\n",
       "1                      Norway       7.537       7.594       7.554\n",
       "2                     Denmark       7.522       7.555       7.600\n",
       "3                     Iceland       7.504       7.495       7.494\n",
       "4                 Switzerland       7.494       7.487       7.480\n",
       "..                        ...         ...         ...         ...\n",
       "142                     Yemen       3.593       3.355       3.380\n",
       "143                  Tanzania       3.349       3.303       3.231\n",
       "144               South Sudan       3.591       3.254       2.853\n",
       "145  Central African Republic       2.693       3.083       3.083\n",
       "146                   Burundi       2.905       2.905       3.775\n",
       "\n",
       "[147 rows x 4 columns]"
      ]
     },
     "execution_count": 21,
     "metadata": {},
     "output_type": "execute_result"
    }
   ],
   "source": [
    "scores"
   ]
  },
  {
   "cell_type": "code",
   "execution_count": 22,
   "id": "bf7eeab4",
   "metadata": {},
   "outputs": [],
   "source": [
    "#Scatter plot\n",
    "bg_score = scores[scores[\"Country or region\"] == \"Bulgaria\"].T.drop(\"Country or region\").values.ravel()\n",
    "gr_score = scores[scores[\"Country or region\"] == \"Greece\"].T.drop(\"Country or region\").values.ravel()\n",
    "ro_score = scores[scores[\"Country or region\"] == \"Romania\"].T.drop(\"Country or region\").values.ravel()\n",
    "years_range = list(range(2017, 2020))\n"
   ]
  },
  {
   "cell_type": "code",
   "execution_count": 79,
   "id": "c91513cf",
   "metadata": {},
   "outputs": [
    {
     "data": {
      "image/png": "[encoded data removed]",
      "text/plain": [
       "<Figure size 640x480 with 1 Axes>"
      ]
     },
     "metadata": {},
     "output_type": "display_data"
    }
   ],
   "source": [
    "plt.plot(years_range, bg_score, label = \"BG\")\n",
    "plt.scatter(years_range, bg_score, marker = \"s\")\n",
    "\n",
    "plt.plot(years_range, gr_score, label = \"GR\")\n",
    "plt.scatter(years_range, gr_score, marker = \"s\")\n",
    "\n",
    "plt.plot(years_range, ro_score, label = \"RO\")\n",
    "plt.scatter(years_range, ro_score, marker = \"s\")\n",
    "\n",
    "plt.legend()\n",
    "plt.xlabel(\"Year\")\n",
    "plt.ylabel(\"Score\")\n",
    "\n",
    "plt.xticks(years_range)\n",
    "plt.show()"
   ]
  },
  {
   "cell_type": "code",
   "execution_count": 74,
   "id": "19c09869",
   "metadata": {},
   "outputs": [
    {
     "data": {
      "text/plain": [
       "array([5.82499980926514, 5.945, 6.07], dtype=object)"
      ]
     },
     "execution_count": 74,
     "metadata": {},
     "output_type": "execute_result"
    }
   ],
   "source": []
  },
  {
   "cell_type": "code",
   "execution_count": null,
   "id": "888f9621",
   "metadata": {},
   "outputs": [],
   "source": []
  }
 ],
 "metadata": {
  "kernelspec": {
   "display_name": "Python 3 (ipykernel)",
   "language": "python",
   "name": "python3"
  },
  "language_info": {
   "codemirror_mode": {
    "name": "ipython",
    "version": 3
   },
   "file_extension": ".py",
   "mimetype": "text/x-python",
   "name": "python",
   "nbconvert_exporter": "python",
   "pygments_lexer": "ipython3",
   "version": "3.10.9"
  }
 },
 "nbformat": 4,
 "nbformat_minor": 5
}
