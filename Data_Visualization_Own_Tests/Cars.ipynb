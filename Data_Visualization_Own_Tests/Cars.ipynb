{
 "cells": [
  {
   "cell_type": "code",
   "execution_count": 2,
   "id": "23af26c1",
   "metadata": {},
   "outputs": [],
   "source": [
    "%matplotlib inline"
   ]
  },
  {
   "cell_type": "code",
   "execution_count": 87,
   "id": "a0114a74",
   "metadata": {},
   "outputs": [],
   "source": [
    "import matplotlib.pyplot as plt\n",
    "import pandas as pd\n",
    "import seaborn as sns"
   ]
  },
  {
   "cell_type": "code",
   "execution_count": 88,
   "id": "26803903",
   "metadata": {},
   "outputs": [],
   "source": [
    "cars = pd.read_csv(\"Cars/autoscout24-germany-dataset.csv\")"
   ]
  },
  {
   "cell_type": "code",
   "execution_count": 89,
   "id": "96b13a5d",
   "metadata": {},
   "outputs": [
    {
     "data": {
      "text/html": [
       "<div>\n",
       "<style scoped>\n",
       "    .dataframe tbody tr th:only-of-type {\n",
       "        vertical-align: middle;\n",
       "    }\n",
       "\n",
       "    .dataframe tbody tr th {\n",
       "        vertical-align: top;\n",
       "    }\n",
       "\n",
       "    .dataframe thead th {\n",
       "        text-align: right;\n",
       "    }\n",
       "</style>\n",
       "<table border=\"1\" class=\"dataframe\">\n",
       "  <thead>\n",
       "    <tr style=\"text-align: right;\">\n",
       "      <th></th>\n",
       "      <th>mileage</th>\n",
       "      <th>make</th>\n",
       "      <th>model</th>\n",
       "      <th>fuel</th>\n",
       "      <th>gear</th>\n",
       "      <th>offerType</th>\n",
       "      <th>price</th>\n",
       "      <th>hp</th>\n",
       "      <th>year</th>\n",
       "    </tr>\n",
       "  </thead>\n",
       "  <tbody>\n",
       "    <tr>\n",
       "      <th>0</th>\n",
       "      <td>235000</td>\n",
       "      <td>BMW</td>\n",
       "      <td>316</td>\n",
       "      <td>Diesel</td>\n",
       "      <td>Manual</td>\n",
       "      <td>Used</td>\n",
       "      <td>6800</td>\n",
       "      <td>116.0</td>\n",
       "      <td>2011</td>\n",
       "    </tr>\n",
       "    <tr>\n",
       "      <th>1</th>\n",
       "      <td>92800</td>\n",
       "      <td>Volkswagen</td>\n",
       "      <td>Golf</td>\n",
       "      <td>Gasoline</td>\n",
       "      <td>Manual</td>\n",
       "      <td>Used</td>\n",
       "      <td>6877</td>\n",
       "      <td>122.0</td>\n",
       "      <td>2011</td>\n",
       "    </tr>\n",
       "    <tr>\n",
       "      <th>2</th>\n",
       "      <td>149300</td>\n",
       "      <td>SEAT</td>\n",
       "      <td>Exeo</td>\n",
       "      <td>Gasoline</td>\n",
       "      <td>Manual</td>\n",
       "      <td>Used</td>\n",
       "      <td>6900</td>\n",
       "      <td>160.0</td>\n",
       "      <td>2011</td>\n",
       "    </tr>\n",
       "    <tr>\n",
       "      <th>3</th>\n",
       "      <td>96200</td>\n",
       "      <td>Renault</td>\n",
       "      <td>Megane</td>\n",
       "      <td>Gasoline</td>\n",
       "      <td>Manual</td>\n",
       "      <td>Used</td>\n",
       "      <td>6950</td>\n",
       "      <td>110.0</td>\n",
       "      <td>2011</td>\n",
       "    </tr>\n",
       "    <tr>\n",
       "      <th>4</th>\n",
       "      <td>156000</td>\n",
       "      <td>Peugeot</td>\n",
       "      <td>308</td>\n",
       "      <td>Gasoline</td>\n",
       "      <td>Manual</td>\n",
       "      <td>Used</td>\n",
       "      <td>6950</td>\n",
       "      <td>156.0</td>\n",
       "      <td>2011</td>\n",
       "    </tr>\n",
       "  </tbody>\n",
       "</table>\n",
       "</div>"
      ],
      "text/plain": [
       "   mileage        make   model      fuel    gear offerType  price     hp  year\n",
       "0   235000         BMW     316    Diesel  Manual      Used   6800  116.0  2011\n",
       "1    92800  Volkswagen    Golf  Gasoline  Manual      Used   6877  122.0  2011\n",
       "2   149300        SEAT    Exeo  Gasoline  Manual      Used   6900  160.0  2011\n",
       "3    96200     Renault  Megane  Gasoline  Manual      Used   6950  110.0  2011\n",
       "4   156000     Peugeot     308  Gasoline  Manual      Used   6950  156.0  2011"
      ]
     },
     "execution_count": 89,
     "metadata": {},
     "output_type": "execute_result"
    }
   ],
   "source": [
    "cars.head()"
   ]
  },
  {
   "cell_type": "code",
   "execution_count": 90,
   "id": "ee07ea14",
   "metadata": {},
   "outputs": [
    {
     "data": {
      "text/plain": [
       "model\n",
       "320    252\n",
       "116    225\n",
       "X1     202\n",
       "118    174\n",
       "520    166\n",
       "318    147\n",
       "530    123\n",
       "X3     121\n",
       "218     75\n",
       "120     60\n",
       "dtype: int64"
      ]
     },
     "execution_count": 90,
     "metadata": {},
     "output_type": "execute_result"
    }
   ],
   "source": [
    "cars[(cars[\"make\"] == \"BMW\")].groupby(\"model\").size().sort_values(ascending=False).head(10)"
   ]
  },
  {
   "cell_type": "code",
   "execution_count": 91,
   "id": "527d08a5",
   "metadata": {},
   "outputs": [],
   "source": [
    "bmw_320 = cars[(cars[\"model\"] == \"320\")]"
   ]
  },
  {
   "cell_type": "code",
   "execution_count": 92,
   "id": "74ad59b4",
   "metadata": {},
   "outputs": [
    {
     "data": {
      "text/html": [
       "<div>\n",
       "<style scoped>\n",
       "    .dataframe tbody tr th:only-of-type {\n",
       "        vertical-align: middle;\n",
       "    }\n",
       "\n",
       "    .dataframe tbody tr th {\n",
       "        vertical-align: top;\n",
       "    }\n",
       "\n",
       "    .dataframe thead th {\n",
       "        text-align: right;\n",
       "    }\n",
       "</style>\n",
       "<table border=\"1\" class=\"dataframe\">\n",
       "  <thead>\n",
       "    <tr style=\"text-align: right;\">\n",
       "      <th></th>\n",
       "      <th>mileage</th>\n",
       "      <th>make</th>\n",
       "      <th>model</th>\n",
       "      <th>fuel</th>\n",
       "      <th>gear</th>\n",
       "      <th>offerType</th>\n",
       "      <th>price</th>\n",
       "      <th>hp</th>\n",
       "      <th>year</th>\n",
       "    </tr>\n",
       "  </thead>\n",
       "  <tbody>\n",
       "    <tr>\n",
       "      <th>39</th>\n",
       "      <td>214000</td>\n",
       "      <td>BMW</td>\n",
       "      <td>320</td>\n",
       "      <td>Diesel</td>\n",
       "      <td>Automatic</td>\n",
       "      <td>Used</td>\n",
       "      <td>8199</td>\n",
       "      <td>184.0</td>\n",
       "      <td>2012</td>\n",
       "    </tr>\n",
       "    <tr>\n",
       "      <th>174</th>\n",
       "      <td>27500</td>\n",
       "      <td>BMW</td>\n",
       "      <td>320</td>\n",
       "      <td>Diesel</td>\n",
       "      <td>Automatic</td>\n",
       "      <td>Used</td>\n",
       "      <td>30675</td>\n",
       "      <td>190.0</td>\n",
       "      <td>2019</td>\n",
       "    </tr>\n",
       "    <tr>\n",
       "      <th>253</th>\n",
       "      <td>261000</td>\n",
       "      <td>BMW</td>\n",
       "      <td>320</td>\n",
       "      <td>Diesel</td>\n",
       "      <td>Automatic</td>\n",
       "      <td>Used</td>\n",
       "      <td>8000</td>\n",
       "      <td>184.0</td>\n",
       "      <td>2012</td>\n",
       "    </tr>\n",
       "    <tr>\n",
       "      <th>486</th>\n",
       "      <td>147000</td>\n",
       "      <td>BMW</td>\n",
       "      <td>320</td>\n",
       "      <td>Diesel</td>\n",
       "      <td>Manual</td>\n",
       "      <td>Used</td>\n",
       "      <td>13999</td>\n",
       "      <td>190.0</td>\n",
       "      <td>2016</td>\n",
       "    </tr>\n",
       "    <tr>\n",
       "      <th>819</th>\n",
       "      <td>110998</td>\n",
       "      <td>BMW</td>\n",
       "      <td>320</td>\n",
       "      <td>Gasoline</td>\n",
       "      <td>Manual</td>\n",
       "      <td>Used</td>\n",
       "      <td>7999</td>\n",
       "      <td>170.0</td>\n",
       "      <td>2011</td>\n",
       "    </tr>\n",
       "  </tbody>\n",
       "</table>\n",
       "</div>"
      ],
      "text/plain": [
       "     mileage make model      fuel       gear offerType  price     hp  year\n",
       "39    214000  BMW   320    Diesel  Automatic      Used   8199  184.0  2012\n",
       "174    27500  BMW   320    Diesel  Automatic      Used  30675  190.0  2019\n",
       "253   261000  BMW   320    Diesel  Automatic      Used   8000  184.0  2012\n",
       "486   147000  BMW   320    Diesel     Manual      Used  13999  190.0  2016\n",
       "819   110998  BMW   320  Gasoline     Manual      Used   7999  170.0  2011"
      ]
     },
     "execution_count": 92,
     "metadata": {},
     "output_type": "execute_result"
    }
   ],
   "source": [
    "bmw_320.head()"
   ]
  },
  {
   "cell_type": "markdown",
   "id": "5d67d32b",
   "metadata": {},
   "source": [
    "sns.heatmap(bmw_320)"
   ]
  },
  {
   "cell_type": "code",
   "execution_count": 93,
   "id": "a2f2fde8",
   "metadata": {},
   "outputs": [
    {
     "data": {
      "image/png": "[encoded data removed]",
      "text/plain": [
       "<Figure size 640x480 with 1 Axes>"
      ]
     },
     "metadata": {},
     "output_type": "display_data"
    }
   ],
   "source": [
    "sns.scatterplot(x = \"hp\",\n",
    "                y = \"price\",\n",
    "                hue = 'year',\n",
    "                data = bmw_320)\n",
    "plt.show()"
   ]
  },
  {
   "cell_type": "code",
   "execution_count": 94,
   "id": "e2b0806f",
   "metadata": {},
   "outputs": [
    {
     "data": {
      "text/plain": [
       "gear\n",
       "Automatic    166\n",
       "Manual        85\n",
       "dtype: int64"
      ]
     },
     "execution_count": 94,
     "metadata": {},
     "output_type": "execute_result"
    }
   ],
   "source": [
    "bmw_320.groupby(bmw_320[\"gear\"]).size().sort_values(ascending=False)"
   ]
  },
  {
   "cell_type": "code",
   "execution_count": 95,
   "id": "d6319cd6",
   "metadata": {},
   "outputs": [
    {
     "data": {
      "text/plain": [
       "fuel\n",
       "Diesel        190\n",
       "Gasoline       60\n",
       "-/- (Fuel)      1\n",
       "Others          1\n",
       "dtype: int64"
      ]
     },
     "execution_count": 95,
     "metadata": {},
     "output_type": "execute_result"
    }
   ],
   "source": [
    "bmw_320.groupby(bmw_320[\"fuel\"]).size().sort_values(ascending=False)"
   ]
  },
  {
   "cell_type": "code",
   "execution_count": 96,
   "id": "5cbfc261",
   "metadata": {},
   "outputs": [],
   "source": [
    "idx_to_remove = bmw_320[(bmw_320[\"fuel\"] != \"Diesel\") & (bmw_320[\"fuel\"] != 'Gasoline')].index"
   ]
  },
  {
   "cell_type": "code",
   "execution_count": 97,
   "id": "712a0eed",
   "metadata": {},
   "outputs": [
    {
     "name": "stderr",
     "output_type": "stream",
     "text": [
      "/tmp/ipykernel_9565/2894526827.py:1: SettingWithCopyWarning: \n",
      "A value is trying to be set on a copy of a slice from a DataFrame\n",
      "\n",
      "See the caveats in the documentation: https://pandas.pydata.org/pandas-docs/stable/user_guide/indexing.html#returning-a-view-versus-a-copy\n",
      "  bmw_320 = bmw_320.drop(idx_to_remove , inplace=True).copy()\n"
     ]
    },
    {
     "ename": "AttributeError",
     "evalue": "'NoneType' object has no attribute 'copy'",
     "output_type": "error",
     "traceback": [
      "\u001b[0;31m---------------------------------------------------------------------------\u001b[0m",
      "\u001b[0;31mAttributeError\u001b[0m                            Traceback (most recent call last)",
      "Cell \u001b[0;32mIn[97], line 1\u001b[0m\n\u001b[0;32m----> 1\u001b[0m bmw_320 \u001b[38;5;241m=\u001b[39m \u001b[43mbmw_320\u001b[49m\u001b[38;5;241;43m.\u001b[39;49m\u001b[43mdrop\u001b[49m\u001b[43m(\u001b[49m\u001b[43midx_to_remove\u001b[49m\u001b[43m \u001b[49m\u001b[43m,\u001b[49m\u001b[43m \u001b[49m\u001b[43minplace\u001b[49m\u001b[38;5;241;43m=\u001b[39;49m\u001b[38;5;28;43;01mTrue\u001b[39;49;00m\u001b[43m)\u001b[49m\u001b[38;5;241;43m.\u001b[39;49m\u001b[43mcopy\u001b[49m()\n",
      "\u001b[0;31mAttributeError\u001b[0m: 'NoneType' object has no attribute 'copy'"
     ]
    }
   ],
   "source": [
    "bmw_320.drop(idx_to_remove , inplace=True)"
   ]
  },
  {
   "cell_type": "code",
   "execution_count": 98,
   "id": "3e92e559",
   "metadata": {},
   "outputs": [
    {
     "data": {
      "image/png": "[encoded data removed]",
      "text/plain": [
       "<Figure size 640x480 with 1 Axes>"
      ]
     },
     "metadata": {},
     "output_type": "display_data"
    }
   ],
   "source": [
    "plt.hist(bmw_320[\"fuel\"],bins = 3)\n",
    "plt.xlabel(\"Capital gain\")\n",
    "plt.ylabel(\"Count\")\n",
    "plt.show()"
   ]
  },
  {
   "cell_type": "code",
   "execution_count": 99,
   "id": "8035ed5b",
   "metadata": {},
   "outputs": [
    {
     "data": {
      "text/html": [
       "<div>\n",
       "<style scoped>\n",
       "    .dataframe tbody tr th:only-of-type {\n",
       "        vertical-align: middle;\n",
       "    }\n",
       "\n",
       "    .dataframe tbody tr th {\n",
       "        vertical-align: top;\n",
       "    }\n",
       "\n",
       "    .dataframe thead th {\n",
       "        text-align: right;\n",
       "    }\n",
       "</style>\n",
       "<table border=\"1\" class=\"dataframe\">\n",
       "  <thead>\n",
       "    <tr style=\"text-align: right;\">\n",
       "      <th></th>\n",
       "      <th>mileage</th>\n",
       "      <th>make</th>\n",
       "      <th>model</th>\n",
       "      <th>fuel</th>\n",
       "      <th>gear</th>\n",
       "      <th>offerType</th>\n",
       "      <th>price</th>\n",
       "      <th>hp</th>\n",
       "      <th>year</th>\n",
       "    </tr>\n",
       "  </thead>\n",
       "  <tbody>\n",
       "  </tbody>\n",
       "</table>\n",
       "</div>"
      ],
      "text/plain": [
       "Empty DataFrame\n",
       "Columns: [mileage, make, model, fuel, gear, offerType, price, hp, year]\n",
       "Index: []"
      ]
     },
     "execution_count": 99,
     "metadata": {},
     "output_type": "execute_result"
    }
   ],
   "source": [
    "bmw_320[(bmw_320[\"fuel\"] != \"Diesel\") & (bmw_320[\"fuel\"] != 'Gasoline')]"
   ]
  },
  {
   "cell_type": "code",
   "execution_count": 101,
   "id": "e8e6fd67",
   "metadata": {},
   "outputs": [
    {
     "data": {
      "image/png": "[encoded data removed]",
      "text/plain": [
       "<Figure size 640x480 with 1 Axes>"
      ]
     },
     "metadata": {},
     "output_type": "display_data"
    }
   ],
   "source": [
    "bmw_320.plot(kind = \"scatter\",\n",
    "            x = \"hp\",\n",
    "            y = \"year\",\n",
    "            title = \"Speed vs Height\")\n",
    "plt.show()"
   ]
  },
  {
   "cell_type": "code",
   "execution_count": 102,
   "id": "c5ddb767",
   "metadata": {},
   "outputs": [
    {
     "data": {
      "image/png": "[encoded data removed]",
      "text/plain": [
       "<Figure size 640x480 with 1 Axes>"
      ]
     },
     "metadata": {},
     "output_type": "display_data"
    }
   ],
   "source": [
    "#Check the speed distribution with histogram\n",
    "ax = bmw_320[\"hp\"].plot(kind=\"hist\",\n",
    "                         bins = 20,\n",
    "                         title = \"Coaster speed (mph)\")\n",
    "ax.set_xlabel(\"Speed (mph)\")\n",
    "plt.show()"
   ]
  },
  {
   "cell_type": "code",
   "execution_count": 103,
   "id": "c21c0ec2",
   "metadata": {},
   "outputs": [],
   "source": [
    "vw = cars[(cars[\"make\"] == \"Volkswagen\")]"
   ]
  },
  {
   "cell_type": "code",
   "execution_count": 104,
   "id": "ae67782c",
   "metadata": {},
   "outputs": [
    {
     "data": {
      "text/html": [
       "<div>\n",
       "<style scoped>\n",
       "    .dataframe tbody tr th:only-of-type {\n",
       "        vertical-align: middle;\n",
       "    }\n",
       "\n",
       "    .dataframe tbody tr th {\n",
       "        vertical-align: top;\n",
       "    }\n",
       "\n",
       "    .dataframe thead th {\n",
       "        text-align: right;\n",
       "    }\n",
       "</style>\n",
       "<table border=\"1\" class=\"dataframe\">\n",
       "  <thead>\n",
       "    <tr style=\"text-align: right;\">\n",
       "      <th></th>\n",
       "      <th>mileage</th>\n",
       "      <th>make</th>\n",
       "      <th>model</th>\n",
       "      <th>fuel</th>\n",
       "      <th>gear</th>\n",
       "      <th>offerType</th>\n",
       "      <th>price</th>\n",
       "      <th>hp</th>\n",
       "      <th>year</th>\n",
       "    </tr>\n",
       "  </thead>\n",
       "  <tbody>\n",
       "    <tr>\n",
       "      <th>1</th>\n",
       "      <td>92800</td>\n",
       "      <td>Volkswagen</td>\n",
       "      <td>Golf</td>\n",
       "      <td>Gasoline</td>\n",
       "      <td>Manual</td>\n",
       "      <td>Used</td>\n",
       "      <td>6877</td>\n",
       "      <td>122.0</td>\n",
       "      <td>2011</td>\n",
       "    </tr>\n",
       "    <tr>\n",
       "      <th>11</th>\n",
       "      <td>84000</td>\n",
       "      <td>Volkswagen</td>\n",
       "      <td>Golf</td>\n",
       "      <td>Gasoline</td>\n",
       "      <td>Manual</td>\n",
       "      <td>Used</td>\n",
       "      <td>6990</td>\n",
       "      <td>105.0</td>\n",
       "      <td>2011</td>\n",
       "    </tr>\n",
       "    <tr>\n",
       "      <th>15</th>\n",
       "      <td>72000</td>\n",
       "      <td>Volkswagen</td>\n",
       "      <td>Polo</td>\n",
       "      <td>Gasoline</td>\n",
       "      <td>Manual</td>\n",
       "      <td>Used</td>\n",
       "      <td>6999</td>\n",
       "      <td>60.0</td>\n",
       "      <td>2011</td>\n",
       "    </tr>\n",
       "    <tr>\n",
       "      <th>21</th>\n",
       "      <td>81970</td>\n",
       "      <td>Volkswagen</td>\n",
       "      <td>Golf</td>\n",
       "      <td>Gasoline</td>\n",
       "      <td>Manual</td>\n",
       "      <td>Used</td>\n",
       "      <td>7850</td>\n",
       "      <td>105.0</td>\n",
       "      <td>2012</td>\n",
       "    </tr>\n",
       "    <tr>\n",
       "      <th>23</th>\n",
       "      <td>193333</td>\n",
       "      <td>Volkswagen</td>\n",
       "      <td>Cross Touran</td>\n",
       "      <td>Diesel</td>\n",
       "      <td>Manual</td>\n",
       "      <td>Used</td>\n",
       "      <td>7900</td>\n",
       "      <td>105.0</td>\n",
       "      <td>2012</td>\n",
       "    </tr>\n",
       "    <tr>\n",
       "      <th>...</th>\n",
       "      <td>...</td>\n",
       "      <td>...</td>\n",
       "      <td>...</td>\n",
       "      <td>...</td>\n",
       "      <td>...</td>\n",
       "      <td>...</td>\n",
       "      <td>...</td>\n",
       "      <td>...</td>\n",
       "      <td>...</td>\n",
       "    </tr>\n",
       "    <tr>\n",
       "      <th>46328</th>\n",
       "      <td>5800</td>\n",
       "      <td>Volkswagen</td>\n",
       "      <td>T6 Multivan</td>\n",
       "      <td>Diesel</td>\n",
       "      <td>Automatic</td>\n",
       "      <td>Demonstration</td>\n",
       "      <td>77470</td>\n",
       "      <td>204.0</td>\n",
       "      <td>2021</td>\n",
       "    </tr>\n",
       "    <tr>\n",
       "      <th>46336</th>\n",
       "      <td>50</td>\n",
       "      <td>Volkswagen</td>\n",
       "      <td>T-Cross</td>\n",
       "      <td>Gasoline</td>\n",
       "      <td>Automatic</td>\n",
       "      <td>Pre-registered</td>\n",
       "      <td>23990</td>\n",
       "      <td>110.0</td>\n",
       "      <td>2021</td>\n",
       "    </tr>\n",
       "    <tr>\n",
       "      <th>46366</th>\n",
       "      <td>50</td>\n",
       "      <td>Volkswagen</td>\n",
       "      <td>Passat Variant</td>\n",
       "      <td>Gasoline</td>\n",
       "      <td>Automatic</td>\n",
       "      <td>Pre-registered</td>\n",
       "      <td>31450</td>\n",
       "      <td>150.0</td>\n",
       "      <td>2021</td>\n",
       "    </tr>\n",
       "    <tr>\n",
       "      <th>46377</th>\n",
       "      <td>100</td>\n",
       "      <td>Volkswagen</td>\n",
       "      <td>Golf</td>\n",
       "      <td>Diesel</td>\n",
       "      <td>Automatic</td>\n",
       "      <td>Pre-registered</td>\n",
       "      <td>32490</td>\n",
       "      <td>150.0</td>\n",
       "      <td>2021</td>\n",
       "    </tr>\n",
       "    <tr>\n",
       "      <th>46381</th>\n",
       "      <td>4800</td>\n",
       "      <td>Volkswagen</td>\n",
       "      <td>T-Cross</td>\n",
       "      <td>Gasoline</td>\n",
       "      <td>Automatic</td>\n",
       "      <td>Demonstration</td>\n",
       "      <td>32880</td>\n",
       "      <td>150.0</td>\n",
       "      <td>2021</td>\n",
       "    </tr>\n",
       "  </tbody>\n",
       "</table>\n",
       "<p>6931 rows × 9 columns</p>\n",
       "</div>"
      ],
      "text/plain": [
       "       mileage        make           model      fuel       gear  \\\n",
       "1        92800  Volkswagen            Golf  Gasoline     Manual   \n",
       "11       84000  Volkswagen            Golf  Gasoline     Manual   \n",
       "15       72000  Volkswagen            Polo  Gasoline     Manual   \n",
       "21       81970  Volkswagen            Golf  Gasoline     Manual   \n",
       "23      193333  Volkswagen    Cross Touran    Diesel     Manual   \n",
       "...        ...         ...             ...       ...        ...   \n",
       "46328     5800  Volkswagen     T6 Multivan    Diesel  Automatic   \n",
       "46336       50  Volkswagen         T-Cross  Gasoline  Automatic   \n",
       "46366       50  Volkswagen  Passat Variant  Gasoline  Automatic   \n",
       "46377      100  Volkswagen            Golf    Diesel  Automatic   \n",
       "46381     4800  Volkswagen         T-Cross  Gasoline  Automatic   \n",
       "\n",
       "            offerType  price     hp  year  \n",
       "1                Used   6877  122.0  2011  \n",
       "11               Used   6990  105.0  2011  \n",
       "15               Used   6999   60.0  2011  \n",
       "21               Used   7850  105.0  2012  \n",
       "23               Used   7900  105.0  2012  \n",
       "...               ...    ...    ...   ...  \n",
       "46328   Demonstration  77470  204.0  2021  \n",
       "46336  Pre-registered  23990  110.0  2021  \n",
       "46366  Pre-registered  31450  150.0  2021  \n",
       "46377  Pre-registered  32490  150.0  2021  \n",
       "46381   Demonstration  32880  150.0  2021  \n",
       "\n",
       "[6931 rows x 9 columns]"
      ]
     },
     "execution_count": 104,
     "metadata": {},
     "output_type": "execute_result"
    }
   ],
   "source": [
    "vw"
   ]
  },
  {
   "cell_type": "code",
   "execution_count": 105,
   "id": "39d4df21",
   "metadata": {},
   "outputs": [
    {
     "data": {
      "image/png": "[encoded data removed]",
      "text/plain": [
       "<Figure size 640x480 with 1 Axes>"
      ]
     },
     "metadata": {},
     "output_type": "display_data"
    }
   ],
   "source": [
    "ax = vw[\"hp\"].plot(kind=\"hist\",\n",
    "                         bins = 20,\n",
    "                         title = \"Coaster speed (mph)\")\n",
    "ax.set_xlabel(\"Speed (mph)\")\n",
    "plt.show()"
   ]
  },
  {
   "cell_type": "code",
   "execution_count": 109,
   "id": "069d7e80",
   "metadata": {},
   "outputs": [],
   "source": [
    "merc = cars[(cars[\"make\"] == \"Mercedes-Benz\")]"
   ]
  },
  {
   "cell_type": "code",
   "execution_count": 114,
   "id": "473bdf86",
   "metadata": {},
   "outputs": [
    {
     "data": {
      "image/png": "[encoded data removed]",
      "text/plain": [
       "<Figure size 640x480 with 1 Axes>"
      ]
     },
     "metadata": {},
     "output_type": "display_data"
    }
   ],
   "source": [
    "# plt.hist(bmw_320[\"hp\"], bins = 15, label = \"BMW\", alpha = 0.7)\n",
    "plt.hist(vw[\"hp\"], bins = 15, label = \"VW\", alpha = 0.7)\n",
    "plt.hist(merc[\"hp\"], bins = 15, label = \"Mercedes-Benz\", alpha = 0.7)\n",
    "plt.legend()\n",
    "plt.xlabel(\"hp\")\n",
    "plt.ylabel(\"Count\")\n",
    "plt.show()"
   ]
  },
  {
   "cell_type": "code",
   "execution_count": 108,
   "id": "b9774c3d",
   "metadata": {},
   "outputs": [
    {
     "data": {
      "text/plain": [
       "array(['BMW', 'Volkswagen', 'SEAT', 'Renault', 'Peugeot', 'Toyota',\n",
       "       'Opel', 'Mazda', 'Ford', 'Mercedes-Benz', 'Chevrolet', 'Audi',\n",
       "       'Fiat', 'Kia', 'Dacia', 'MINI', 'Hyundai', 'Skoda', 'Citroen',\n",
       "       'Infiniti', 'Suzuki', 'SsangYong', 'smart', 'Cupra', 'Volvo',\n",
       "       'Jaguar', 'Porsche', 'Nissan', 'Honda', 'Lada', 'Mitsubishi',\n",
       "       'Others', 'Lexus', 'Jeep', 'Maserati', 'Bentley', 'Land', 'Alfa',\n",
       "       'Subaru', 'Dodge', 'Microcar', 'Lamborghini', 'Baic', 'Tesla',\n",
       "       'Chrysler', '9ff', 'McLaren', 'Aston', 'Rolls-Royce', 'Alpine',\n",
       "       'Lancia', 'Abarth', 'DS', 'Daihatsu', 'Ligier', 'Ferrari',\n",
       "       'Caravans-Wohnm', 'Aixam', 'Piaggio', 'Zhidou', 'Morgan',\n",
       "       'Maybach', 'Tazzari', 'Trucks-Lkw', 'RAM', 'Iveco', 'DAF',\n",
       "       'Alpina', 'Polestar', 'Brilliance', 'FISKER', 'Cadillac',\n",
       "       'Trailer-Anhänger', 'Isuzu', 'Corvette', 'DFSK', 'Estrima'],\n",
       "      dtype=object)"
      ]
     },
     "execution_count": 108,
     "metadata": {},
     "output_type": "execute_result"
    }
   ],
   "source": [
    "cars[\"make\"].unique()"
   ]
  },
  {
   "cell_type": "code",
   "execution_count": null,
   "id": "b5bffb64",
   "metadata": {},
   "outputs": [],
   "source": []
  }
 ],
 "metadata": {
  "kernelspec": {
   "display_name": "Python 3 (ipykernel)",
   "language": "python",
   "name": "python3"
  },
  "language_info": {
   "codemirror_mode": {
    "name": "ipython",
    "version": 3
   },
   "file_extension": ".py",
   "mimetype": "text/x-python",
   "name": "python",
   "nbconvert_exporter": "python",
   "pygments_lexer": "ipython3",
   "version": "3.10.9"
  }
 },
 "nbformat": 4,
 "nbformat_minor": 5
}
